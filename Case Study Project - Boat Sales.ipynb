{
 "cells": [
  {
   "cell_type": "markdown",
   "id": "c2185117",
   "metadata": {},
   "source": [
    "# Case Study Project - Boat Sales\n",
    "Hi, this is Case Study Project for DataCamp certification."
   ]
  },
  {
   "cell_type": "markdown",
   "id": "68e9a3ec",
   "metadata": {},
   "source": [
    "### 1. First we start with importing packages anddata"
   ]
  },
  {
   "cell_type": "code",
   "execution_count": 202,
   "id": "1aa3c1b1",
   "metadata": {},
   "outputs": [
    {
     "name": "stdout",
     "output_type": "stream",
     "text": [
      "<class 'pandas.core.frame.DataFrame'>\n",
      "RangeIndex: 9888 entries, 0 to 9887\n",
      "Data columns (total 10 columns):\n",
      " #   Column                       Non-Null Count  Dtype  \n",
      "---  ------                       --------------  -----  \n",
      " 0   Price                        9888 non-null   object \n",
      " 1   Boat Type                    9888 non-null   object \n",
      " 2   Manufacturer                 8550 non-null   object \n",
      " 3   Type                         9882 non-null   object \n",
      " 4   Year Built                   9888 non-null   int64  \n",
      " 5   Length                       9879 non-null   float64\n",
      " 6   Width                        9832 non-null   float64\n",
      " 7   Material                     8139 non-null   object \n",
      " 8   Location                     9852 non-null   object \n",
      " 9   Number of views last 7 days  9888 non-null   int64  \n",
      "dtypes: float64(2), int64(2), object(6)\n",
      "memory usage: 772.6+ KB\n"
     ]
    },
    {
     "data": {
      "text/html": [
       "<div>\n",
       "<style scoped>\n",
       "    .dataframe tbody tr th:only-of-type {\n",
       "        vertical-align: middle;\n",
       "    }\n",
       "\n",
       "    .dataframe tbody tr th {\n",
       "        vertical-align: top;\n",
       "    }\n",
       "\n",
       "    .dataframe thead th {\n",
       "        text-align: right;\n",
       "    }\n",
       "</style>\n",
       "<table border=\"1\" class=\"dataframe\">\n",
       "  <thead>\n",
       "    <tr style=\"text-align: right;\">\n",
       "      <th></th>\n",
       "      <th>Year Built</th>\n",
       "      <th>Length</th>\n",
       "      <th>Width</th>\n",
       "      <th>Number of views last 7 days</th>\n",
       "    </tr>\n",
       "  </thead>\n",
       "  <tbody>\n",
       "    <tr>\n",
       "      <th>count</th>\n",
       "      <td>9888.000000</td>\n",
       "      <td>9879.000000</td>\n",
       "      <td>9832.000000</td>\n",
       "      <td>9888.000000</td>\n",
       "    </tr>\n",
       "    <tr>\n",
       "      <th>mean</th>\n",
       "      <td>1893.192860</td>\n",
       "      <td>11.570017</td>\n",
       "      <td>3.520124</td>\n",
       "      <td>149.160801</td>\n",
       "    </tr>\n",
       "    <tr>\n",
       "      <th>std</th>\n",
       "      <td>460.201582</td>\n",
       "      <td>6.002820</td>\n",
       "      <td>1.220534</td>\n",
       "      <td>151.819752</td>\n",
       "    </tr>\n",
       "    <tr>\n",
       "      <th>min</th>\n",
       "      <td>0.000000</td>\n",
       "      <td>1.040000</td>\n",
       "      <td>0.010000</td>\n",
       "      <td>13.000000</td>\n",
       "    </tr>\n",
       "    <tr>\n",
       "      <th>25%</th>\n",
       "      <td>1996.000000</td>\n",
       "      <td>7.470000</td>\n",
       "      <td>2.540000</td>\n",
       "      <td>70.000000</td>\n",
       "    </tr>\n",
       "    <tr>\n",
       "      <th>50%</th>\n",
       "      <td>2007.000000</td>\n",
       "      <td>10.280000</td>\n",
       "      <td>3.330000</td>\n",
       "      <td>108.000000</td>\n",
       "    </tr>\n",
       "    <tr>\n",
       "      <th>75%</th>\n",
       "      <td>2017.000000</td>\n",
       "      <td>13.930000</td>\n",
       "      <td>4.250000</td>\n",
       "      <td>172.000000</td>\n",
       "    </tr>\n",
       "    <tr>\n",
       "      <th>max</th>\n",
       "      <td>2021.000000</td>\n",
       "      <td>100.000000</td>\n",
       "      <td>25.160000</td>\n",
       "      <td>3263.000000</td>\n",
       "    </tr>\n",
       "  </tbody>\n",
       "</table>\n",
       "</div>"
      ],
      "text/plain": [
       "        Year Built       Length        Width  Number of views last 7 days\n",
       "count  9888.000000  9879.000000  9832.000000                  9888.000000\n",
       "mean   1893.192860    11.570017     3.520124                   149.160801\n",
       "std     460.201582     6.002820     1.220534                   151.819752\n",
       "min       0.000000     1.040000     0.010000                    13.000000\n",
       "25%    1996.000000     7.470000     2.540000                    70.000000\n",
       "50%    2007.000000    10.280000     3.330000                   108.000000\n",
       "75%    2017.000000    13.930000     4.250000                   172.000000\n",
       "max    2021.000000   100.000000    25.160000                  3263.000000"
      ]
     },
     "execution_count": 202,
     "metadata": {},
     "output_type": "execute_result"
    }
   ],
   "source": [
    "import pandas as pd\n",
    "import matplotlib.pyplot as plt\n",
    "\n",
    "data = pd.read_csv('boat_data.csv')\n",
    "data.head()\n",
    "data.info()\n",
    "data.describe()"
   ]
  },
  {
   "cell_type": "markdown",
   "id": "3b903647",
   "metadata": {},
   "source": [
    "### 2. Set price to be same currency (**EUR**) and set the Location to be just first word (country) for every boat:\n",
    "* check unique currencies\n",
    "* create dictionary with currancy and EURO exchange rate\n",
    "* we set price to be value multiplied by exchange rate"
   ]
  },
  {
   "cell_type": "code",
   "execution_count": 203,
   "id": "0491ef6d",
   "metadata": {},
   "outputs": [
    {
     "data": {
      "text/plain": [
       "array(['CHF', 'EUR', 'DKK', 'Â£'], dtype=object)"
      ]
     },
     "execution_count": 203,
     "metadata": {},
     "output_type": "execute_result"
    }
   ],
   "source": [
    "data['Price'].apply(lambda x: x.split(' ')[0]).unique()"
   ]
  },
  {
   "cell_type": "code",
   "execution_count": 204,
   "id": "2925fe4c",
   "metadata": {
    "scrolled": true
   },
   "outputs": [
    {
     "data": {
      "text/html": [
       "<div>\n",
       "<style scoped>\n",
       "    .dataframe tbody tr th:only-of-type {\n",
       "        vertical-align: middle;\n",
       "    }\n",
       "\n",
       "    .dataframe tbody tr th {\n",
       "        vertical-align: top;\n",
       "    }\n",
       "\n",
       "    .dataframe thead th {\n",
       "        text-align: right;\n",
       "    }\n",
       "</style>\n",
       "<table border=\"1\" class=\"dataframe\">\n",
       "  <thead>\n",
       "    <tr style=\"text-align: right;\">\n",
       "      <th></th>\n",
       "      <th>Price</th>\n",
       "      <th>Boat Type</th>\n",
       "      <th>Manufacturer</th>\n",
       "      <th>Type</th>\n",
       "      <th>Year Built</th>\n",
       "      <th>Length</th>\n",
       "      <th>Width</th>\n",
       "      <th>Material</th>\n",
       "      <th>Location</th>\n",
       "      <th>Number of views last 7 days</th>\n",
       "      <th>Currency</th>\n",
       "    </tr>\n",
       "  </thead>\n",
       "  <tbody>\n",
       "    <tr>\n",
       "      <th>0</th>\n",
       "      <td>3236.89</td>\n",
       "      <td>Motor Yacht</td>\n",
       "      <td>Rigiflex power boats</td>\n",
       "      <td>new boat from stock</td>\n",
       "      <td>2017</td>\n",
       "      <td>4.00</td>\n",
       "      <td>1.90</td>\n",
       "      <td>NaN</td>\n",
       "      <td>Switzerland</td>\n",
       "      <td>226</td>\n",
       "      <td>CHF</td>\n",
       "    </tr>\n",
       "    <tr>\n",
       "      <th>1</th>\n",
       "      <td>3490.00</td>\n",
       "      <td>Center console boat</td>\n",
       "      <td>Terhi power boats</td>\n",
       "      <td>new boat from stock</td>\n",
       "      <td>2020</td>\n",
       "      <td>4.00</td>\n",
       "      <td>1.50</td>\n",
       "      <td>Thermoplastic</td>\n",
       "      <td>Germany</td>\n",
       "      <td>75</td>\n",
       "      <td>EUR</td>\n",
       "    </tr>\n",
       "    <tr>\n",
       "      <th>2</th>\n",
       "      <td>3656.90</td>\n",
       "      <td>Sport Boat</td>\n",
       "      <td>Marine power boats</td>\n",
       "      <td>new boat from stock</td>\n",
       "      <td>0</td>\n",
       "      <td>3.69</td>\n",
       "      <td>1.42</td>\n",
       "      <td>Aluminium</td>\n",
       "      <td>Switzerland</td>\n",
       "      <td>124</td>\n",
       "      <td>CHF</td>\n",
       "    </tr>\n",
       "    <tr>\n",
       "      <th>3</th>\n",
       "      <td>3367.00</td>\n",
       "      <td>Sport Boat</td>\n",
       "      <td>Pioner power boats</td>\n",
       "      <td>new boat from stock</td>\n",
       "      <td>2020</td>\n",
       "      <td>3.00</td>\n",
       "      <td>1.00</td>\n",
       "      <td>NaN</td>\n",
       "      <td>Denmark</td>\n",
       "      <td>64</td>\n",
       "      <td>DKK</td>\n",
       "    </tr>\n",
       "    <tr>\n",
       "      <th>4</th>\n",
       "      <td>3399.00</td>\n",
       "      <td>Fishing Boat</td>\n",
       "      <td>Linder power boats</td>\n",
       "      <td>new boat from stock</td>\n",
       "      <td>2019</td>\n",
       "      <td>3.55</td>\n",
       "      <td>1.46</td>\n",
       "      <td>Aluminium</td>\n",
       "      <td>Germany</td>\n",
       "      <td>58</td>\n",
       "      <td>EUR</td>\n",
       "    </tr>\n",
       "  </tbody>\n",
       "</table>\n",
       "</div>"
      ],
      "text/plain": [
       "     Price            Boat Type          Manufacturer                 Type  \\\n",
       "0  3236.89          Motor Yacht  Rigiflex power boats  new boat from stock   \n",
       "1  3490.00  Center console boat     Terhi power boats  new boat from stock   \n",
       "2  3656.90           Sport Boat    Marine power boats  new boat from stock   \n",
       "3  3367.00           Sport Boat    Pioner power boats  new boat from stock   \n",
       "4  3399.00         Fishing Boat    Linder power boats  new boat from stock   \n",
       "\n",
       "   Year Built  Length  Width       Material     Location  \\\n",
       "0        2017    4.00   1.90            NaN  Switzerland   \n",
       "1        2020    4.00   1.50  Thermoplastic      Germany   \n",
       "2           0    3.69   1.42      Aluminium  Switzerland   \n",
       "3        2020    3.00   1.00            NaN      Denmark   \n",
       "4        2019    3.55   1.46      Aluminium      Germany   \n",
       "\n",
       "   Number of views last 7 days Currency  \n",
       "0                          226      CHF  \n",
       "1                           75      EUR  \n",
       "2                          124      CHF  \n",
       "3                           64      DKK  \n",
       "4                           58      EUR  "
      ]
     },
     "execution_count": 204,
     "metadata": {},
     "output_type": "execute_result"
    }
   ],
   "source": [
    "currency = {'CHF': 0.97, 'EUR': 1.0, 'DKK': 0.13, 'Â£': 1.20}\n",
    "def change_currency(row):\n",
    "    split = row.split(' ')\n",
    "    return float(split[1]) * currency[split[0]]\n",
    "data['Currency'] = data['Price'].apply(lambda x: str(x).split(' ')[0])\n",
    "data['Price'] = data['Price'].apply(change_currency)\n",
    "data['Location'] = data['Location'].apply(lambda x: str(x).split(' ')[0])"
   ]
  },
  {
   "cell_type": "markdown",
   "id": "3d791278",
   "metadata": {},
   "source": [
    "### 3. Check in which countries most viwed boats are located"
   ]
  },
  {
   "cell_type": "code",
   "execution_count": 205,
   "id": "d30fd86b",
   "metadata": {},
   "outputs": [],
   "source": [
    "df = data.drop(data[data['Location'] == 'Lake'].index)\n",
    "df = df.groupby('Location')['Number of views last 7 days'].agg(['size', 'mean'])\n",
    "df.index\n",
    "df = df[(df['size'] > 5) & (df['mean'] > 130)].sort_values('mean', ascending=False)"
   ]
  },
  {
   "cell_type": "code",
   "execution_count": 206,
   "id": "c6da7fb1",
   "metadata": {},
   "outputs": [
    {
     "data": {
      "image/png": "[encoded data removed]",
      "text/plain": [
       "<Figure size 800x800 with 1 Axes>"
      ]
     },
     "metadata": {
      "needs_background": "light"
     },
     "output_type": "display_data"
    }
   ],
   "source": [
    "colors = ['tab:red' if x < 15 else 'tab:blue' for x in df['size']]\n",
    "plt.figure(figsize=(10, 10), dpi=80)\n",
    "plt.bar(x=df.index, height=df['mean'], color=colors)\n",
    "plt.suptitle('Views per Country', size = 30, va='center')\n",
    "plt.title('Countries in red have less then 15 boats offerts', size = 15, va='center')\n",
    "plt.xlabel('Country')\n",
    "plt.ylabel('Average views of boats in last 7 days')\n",
    "plt.xticks(rotation = 60)\n",
    "plt.savefig('foo.png', bbox_inches='tight')\n",
    "plt.show()"
   ]
  },
  {
   "cell_type": "markdown",
   "id": "2a11890b",
   "metadata": {},
   "source": [
    "### 4. Check if new, old or display boats are the most popular"
   ]
  },
  {
   "cell_type": "code",
   "execution_count": 207,
   "id": "30025962",
   "metadata": {},
   "outputs": [
    {
     "data": {
      "image/png": "[encoded data removed]",
      "text/plain": [
       "<Figure size 640x640 with 1 Axes>"
      ]
     },
     "metadata": {
      "needs_background": "light"
     },
     "output_type": "display_data"
    }
   ],
   "source": [
    "df = data\n",
    "df['New'] = df['Type'].apply(lambda x: 'new' in str(x))\n",
    "df['Used'] = df['Type'].apply(lambda x: 'Used' in str(x))\n",
    "df['Display'] = df['Type'].apply(lambda x: 'Display' in str(x))\n",
    "\n",
    "plt.figure(figsize=(8, 8), dpi=80)\n",
    "plt.bar(x=['New', 'Used', 'Display'], \n",
    "        height=[df[df['New']]['Number of views last 7 days'].mean(), \n",
    "                df[df['Used']]['Number of views last 7 days'].mean(), \n",
    "                df[df['Display']]['Number of views last 7 days'].mean()])\n",
    "plt.title('Views for other types of boats', size = 15, va='center')\n",
    "plt.xlabel('Boat type')\n",
    "plt.ylabel('Average views of boats in last 7 days')\n",
    "plt.savefig('foo.png', bbox_inches='tight')\n",
    "plt.show()"
   ]
  },
  {
   "cell_type": "markdown",
   "id": "1d853892",
   "metadata": {},
   "source": [
    "### 5. Check if views depends on price \n",
    "* split data into 10 even bins e.g. last bin is the 10% most expensive boats "
   ]
  },
  {
   "cell_type": "code",
   "execution_count": 208,
   "id": "91064171",
   "metadata": {},
   "outputs": [
    {
     "data": {
      "image/png": "[encoded data removed]",
      "text/plain": [
       "<Figure size 640x640 with 1 Axes>"
      ]
     },
     "metadata": {
      "needs_background": "light"
     },
     "output_type": "display_data"
    }
   ],
   "source": [
    "df = data.groupby(pd.cut(data['Price'], data['Price'].quantile([x/10 for x in range(11)])))['Number of views last 7 days'].agg(['size', 'mean'])\n",
    "\n",
    "plt.figure(figsize=(8, 8), dpi=80)\n",
    "plt.bar(x=[f'{x}-{x+10}%' for x in range(0, 100,10)], height=df['mean'])\n",
    "plt.suptitle('Views per Price Range', size = 30, va='center')\n",
    "plt.xlabel('Price Bin')\n",
    "plt.ylabel('Average views of boats in last 7 days')\n",
    "plt.xticks(size = 10)\n",
    "plt.savefig('foo.png', bbox_inches='tight')\n",
    "plt.show()"
   ]
  },
  {
   "cell_type": "markdown",
   "id": "7dfef21b",
   "metadata": {},
   "source": [
    "### 6. Price and location "
   ]
  },
  {
   "cell_type": "code",
   "execution_count": 209,
   "id": "75523cf6",
   "metadata": {},
   "outputs": [
    {
     "data": {
      "text/html": [
       "<div>\n",
       "<style scoped>\n",
       "    .dataframe tbody tr th:only-of-type {\n",
       "        vertical-align: middle;\n",
       "    }\n",
       "\n",
       "    .dataframe tbody tr th {\n",
       "        vertical-align: top;\n",
       "    }\n",
       "\n",
       "    .dataframe thead th {\n",
       "        text-align: right;\n",
       "    }\n",
       "</style>\n",
       "<table border=\"1\" class=\"dataframe\">\n",
       "  <thead>\n",
       "    <tr style=\"text-align: right;\">\n",
       "      <th></th>\n",
       "      <th></th>\n",
       "      <th>size</th>\n",
       "      <th>mean</th>\n",
       "    </tr>\n",
       "    <tr>\n",
       "      <th>Price</th>\n",
       "      <th>Location</th>\n",
       "      <th></th>\n",
       "      <th></th>\n",
       "    </tr>\n",
       "  </thead>\n",
       "  <tbody>\n",
       "    <tr>\n",
       "      <th>(3224.0, 21000.0]</th>\n",
       "      <th>Switzerland</th>\n",
       "      <td>250</td>\n",
       "      <td>383.936000</td>\n",
       "    </tr>\n",
       "    <tr>\n",
       "      <th>(21000.0, 35008.0]</th>\n",
       "      <th>Switzerland</th>\n",
       "      <td>176</td>\n",
       "      <td>378.267045</td>\n",
       "    </tr>\n",
       "    <tr>\n",
       "      <th>(92000.0, 135000.0]</th>\n",
       "      <th>Switzerland</th>\n",
       "      <td>111</td>\n",
       "      <td>324.234234</td>\n",
       "    </tr>\n",
       "    <tr>\n",
       "      <th>(49900.0, 68580.0]</th>\n",
       "      <th>Switzerland</th>\n",
       "      <td>122</td>\n",
       "      <td>321.934426</td>\n",
       "    </tr>\n",
       "    <tr>\n",
       "      <th>(581045.23, 31000000.0]</th>\n",
       "      <th>Switzerland</th>\n",
       "      <td>18</td>\n",
       "      <td>315.611111</td>\n",
       "    </tr>\n",
       "    <tr>\n",
       "      <th>(299000.0, 581045.23]</th>\n",
       "      <th>Switzerland</th>\n",
       "      <td>49</td>\n",
       "      <td>314.326531</td>\n",
       "    </tr>\n",
       "    <tr>\n",
       "      <th>(35008.0, 49900.0]</th>\n",
       "      <th>Switzerland</th>\n",
       "      <td>147</td>\n",
       "      <td>306.258503</td>\n",
       "    </tr>\n",
       "    <tr>\n",
       "      <th>(135000.0, 199000.0]</th>\n",
       "      <th>Switzerland</th>\n",
       "      <td>75</td>\n",
       "      <td>303.506667</td>\n",
       "    </tr>\n",
       "    <tr>\n",
       "      <th>(68580.0, 92000.0]</th>\n",
       "      <th>Switzerland</th>\n",
       "      <td>98</td>\n",
       "      <td>300.816327</td>\n",
       "    </tr>\n",
       "    <tr>\n",
       "      <th>(199000.0, 299000.0]</th>\n",
       "      <th>Switzerland</th>\n",
       "      <td>66</td>\n",
       "      <td>276.666667</td>\n",
       "    </tr>\n",
       "    <tr>\n",
       "      <th rowspan=\"3\" valign=\"top\">(3224.0, 21000.0]</th>\n",
       "      <th>Austria</th>\n",
       "      <td>13</td>\n",
       "      <td>250.000000</td>\n",
       "    </tr>\n",
       "    <tr>\n",
       "      <th>Spain</th>\n",
       "      <td>15</td>\n",
       "      <td>241.000000</td>\n",
       "    </tr>\n",
       "    <tr>\n",
       "      <th>Croatia</th>\n",
       "      <td>13</td>\n",
       "      <td>212.538462</td>\n",
       "    </tr>\n",
       "    <tr>\n",
       "      <th>(49900.0, 68580.0]</th>\n",
       "      <th>Belgium</th>\n",
       "      <td>11</td>\n",
       "      <td>206.000000</td>\n",
       "    </tr>\n",
       "    <tr>\n",
       "      <th>(21000.0, 35008.0]</th>\n",
       "      <th>Croatia</th>\n",
       "      <td>42</td>\n",
       "      <td>196.214286</td>\n",
       "    </tr>\n",
       "    <tr>\n",
       "      <th>(3224.0, 21000.0]</th>\n",
       "      <th>Germany</th>\n",
       "      <td>300</td>\n",
       "      <td>196.136667</td>\n",
       "    </tr>\n",
       "    <tr>\n",
       "      <th>(92000.0, 135000.0]</th>\n",
       "      <th>Denmark</th>\n",
       "      <td>16</td>\n",
       "      <td>195.625000</td>\n",
       "    </tr>\n",
       "    <tr>\n",
       "      <th rowspan=\"2\" valign=\"top\">(3224.0, 21000.0]</th>\n",
       "      <th>Italy</th>\n",
       "      <td>132</td>\n",
       "      <td>191.712121</td>\n",
       "    </tr>\n",
       "    <tr>\n",
       "      <th>Netherlands</th>\n",
       "      <td>88</td>\n",
       "      <td>189.147727</td>\n",
       "    </tr>\n",
       "    <tr>\n",
       "      <th>(21000.0, 35008.0]</th>\n",
       "      <th>Austria</th>\n",
       "      <td>12</td>\n",
       "      <td>181.666667</td>\n",
       "    </tr>\n",
       "    <tr>\n",
       "      <th>(68580.0, 92000.0]</th>\n",
       "      <th>Denmark</th>\n",
       "      <td>12</td>\n",
       "      <td>169.916667</td>\n",
       "    </tr>\n",
       "    <tr>\n",
       "      <th>(35008.0, 49900.0]</th>\n",
       "      <th>Croatia</th>\n",
       "      <td>56</td>\n",
       "      <td>165.750000</td>\n",
       "    </tr>\n",
       "    <tr>\n",
       "      <th rowspan=\"2\" valign=\"top\">(21000.0, 35008.0]</th>\n",
       "      <th>Spain</th>\n",
       "      <td>27</td>\n",
       "      <td>162.407407</td>\n",
       "    </tr>\n",
       "    <tr>\n",
       "      <th>Italy</th>\n",
       "      <td>160</td>\n",
       "      <td>160.262500</td>\n",
       "    </tr>\n",
       "    <tr>\n",
       "      <th>(135000.0, 199000.0]</th>\n",
       "      <th>Austria</th>\n",
       "      <td>16</td>\n",
       "      <td>159.437500</td>\n",
       "    </tr>\n",
       "  </tbody>\n",
       "</table>\n",
       "</div>"
      ],
      "text/plain": [
       "                                     size        mean\n",
       "Price                   Location                     \n",
       "(3224.0, 21000.0]       Switzerland   250  383.936000\n",
       "(21000.0, 35008.0]      Switzerland   176  378.267045\n",
       "(92000.0, 135000.0]     Switzerland   111  324.234234\n",
       "(49900.0, 68580.0]      Switzerland   122  321.934426\n",
       "(581045.23, 31000000.0] Switzerland    18  315.611111\n",
       "(299000.0, 581045.23]   Switzerland    49  314.326531\n",
       "(35008.0, 49900.0]      Switzerland   147  306.258503\n",
       "(135000.0, 199000.0]    Switzerland    75  303.506667\n",
       "(68580.0, 92000.0]      Switzerland    98  300.816327\n",
       "(199000.0, 299000.0]    Switzerland    66  276.666667\n",
       "(3224.0, 21000.0]       Austria        13  250.000000\n",
       "                        Spain          15  241.000000\n",
       "                        Croatia        13  212.538462\n",
       "(49900.0, 68580.0]      Belgium        11  206.000000\n",
       "(21000.0, 35008.0]      Croatia        42  196.214286\n",
       "(3224.0, 21000.0]       Germany       300  196.136667\n",
       "(92000.0, 135000.0]     Denmark        16  195.625000\n",
       "(3224.0, 21000.0]       Italy         132  191.712121\n",
       "                        Netherlands    88  189.147727\n",
       "(21000.0, 35008.0]      Austria        12  181.666667\n",
       "(68580.0, 92000.0]      Denmark        12  169.916667\n",
       "(35008.0, 49900.0]      Croatia        56  165.750000\n",
       "(21000.0, 35008.0]      Spain          27  162.407407\n",
       "                        Italy         160  160.262500\n",
       "(135000.0, 199000.0]    Austria        16  159.437500"
      ]
     },
     "execution_count": 209,
     "metadata": {},
     "output_type": "execute_result"
    }
   ],
   "source": [
    "df = data.groupby([pd.cut(data['Price'], data['Price'].quantile([x/10 for x in range(11)])), 'Location'])['Number of views last 7 days'].agg(['size', 'mean'])\n",
    "df[df['size'] > 10].sort_values('mean', ascending=False).head(25)"
   ]
  },
  {
   "cell_type": "markdown",
   "id": "e4471f8c",
   "metadata": {},
   "source": [
    "### 7. Views per currency"
   ]
  },
  {
   "cell_type": "code",
   "execution_count": 210,
   "id": "c897edaf",
   "metadata": {},
   "outputs": [
    {
     "data": {
      "image/png": "[encoded data removed]",
      "text/plain": [
       "<Figure size 640x640 with 1 Axes>"
      ]
     },
     "metadata": {
      "needs_background": "light"
     },
     "output_type": "display_data"
    },
    {
     "data": {
      "text/html": [
       "<div>\n",
       "<style scoped>\n",
       "    .dataframe tbody tr th:only-of-type {\n",
       "        vertical-align: middle;\n",
       "    }\n",
       "\n",
       "    .dataframe tbody tr th {\n",
       "        vertical-align: top;\n",
       "    }\n",
       "\n",
       "    .dataframe thead th {\n",
       "        text-align: right;\n",
       "    }\n",
       "</style>\n",
       "<table border=\"1\" class=\"dataframe\">\n",
       "  <thead>\n",
       "    <tr style=\"text-align: right;\">\n",
       "      <th></th>\n",
       "      <th>size</th>\n",
       "      <th>mean</th>\n",
       "    </tr>\n",
       "    <tr>\n",
       "      <th>Currency</th>\n",
       "      <th></th>\n",
       "      <th></th>\n",
       "    </tr>\n",
       "  </thead>\n",
       "  <tbody>\n",
       "    <tr>\n",
       "      <th>CHF</th>\n",
       "      <td>980</td>\n",
       "      <td>355.094898</td>\n",
       "    </tr>\n",
       "    <tr>\n",
       "      <th>DKK</th>\n",
       "      <td>180</td>\n",
       "      <td>129.872222</td>\n",
       "    </tr>\n",
       "    <tr>\n",
       "      <th>EUR</th>\n",
       "      <td>8430</td>\n",
       "      <td>127.559193</td>\n",
       "    </tr>\n",
       "    <tr>\n",
       "      <th>Â£</th>\n",
       "      <td>298</td>\n",
       "      <td>94.657718</td>\n",
       "    </tr>\n",
       "  </tbody>\n",
       "</table>\n",
       "</div>"
      ],
      "text/plain": [
       "          size        mean\n",
       "Currency                  \n",
       "CHF        980  355.094898\n",
       "DKK        180  129.872222\n",
       "EUR       8430  127.559193\n",
       "Â£         298   94.657718"
      ]
     },
     "execution_count": 210,
     "metadata": {},
     "output_type": "execute_result"
    }
   ],
   "source": [
    "df = data.groupby('Currency')['Number of views last 7 days'].agg(['size', 'mean'])\n",
    "plt.figure(figsize=(8, 8), dpi=80)\n",
    "plt.bar(x=df.index, height=df['mean'])\n",
    "plt.suptitle('Views per Currency', size = 30, va='center')\n",
    "plt.xlabel('Currency')\n",
    "plt.ylabel('Average views of boats in last 7 days')\n",
    "plt.xticks(size = 10)\n",
    "plt.savefig('foo.png', bbox_inches='tight')\n",
    "plt.show()\n",
    "df.head()"
   ]
  }
 ],
 "metadata": {
  "kernelspec": {
   "display_name": "Python 3 (ipykernel)",
   "language": "python",
   "name": "python3"
  },
  "language_info": {
   "codemirror_mode": {
    "name": "ipython",
    "version": 3
   },
   "file_extension": ".py",
   "mimetype": "text/x-python",
   "name": "python",
   "nbconvert_exporter": "python",
   "pygments_lexer": "ipython3",
   "version": "3.9.7"
  }
 },
 "nbformat": 4,
 "nbformat_minor": 5
}
